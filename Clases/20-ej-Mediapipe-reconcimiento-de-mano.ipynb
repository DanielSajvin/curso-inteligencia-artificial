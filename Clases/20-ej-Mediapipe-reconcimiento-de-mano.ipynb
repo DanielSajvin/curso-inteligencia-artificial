{
 "cells": [
  {
   "cell_type": "code",
   "execution_count": 2,
   "id": "3e5904c0",
   "metadata": {},
   "outputs": [],
   "source": [
    "import cv2\n",
    "import mediapipe as mp"
   ]
  },
  {
   "cell_type": "code",
   "execution_count": 3,
   "id": "734695da",
   "metadata": {},
   "outputs": [],
   "source": [
    "# crear un trazo\n",
    "mp_drawing = mp.solutions.drawing_utils\n",
    "mp_hands = mp.solutions.hands"
   ]
  },
  {
   "cell_type": "code",
   "execution_count": 4,
   "id": "ff636025",
   "metadata": {},
   "outputs": [],
   "source": [
    "ruta = \"../dataSet/jpg/mano-2.jpg\""
   ]
  },
  {
   "cell_type": "code",
   "execution_count": 8,
   "id": "470b1564",
   "metadata": {},
   "outputs": [
    {
     "name": "stdout",
     "output_type": "stream",
     "text": [
      "Handedness:  [classification {\n",
      "  index: 1\n",
      "  score: 0.952215672\n",
      "  label: \"Right\"\n",
      "}\n",
      "]\n"
     ]
    }
   ],
   "source": [
    "# realizar tratamiento de la imagen\n",
    "with mp_hands.Hands(\n",
    "    static_image_mode=True, max_num_hands=1, min_detection_confidence=0.5,\n",
    ") as hands:\n",
    "    image = cv2.imread(ruta)\n",
    "    height, width, _ = image.shape\n",
    "    \n",
    "    image = cv2.flip(image, 1)\n",
    "    image_rgb = cv2.cvtColor(image, cv2.COLOR_BGR2RGB)\n",
    "\n",
    "  \n",
    "    results = hands.process(image_rgb)\n",
    "    print(\"Handedness: \", results.multi_handedness)"
   ]
  },
  {
   "cell_type": "code",
   "execution_count": null,
   "id": "98cfd346",
   "metadata": {},
   "outputs": [],
   "source": []
  }
 ],
 "metadata": {
  "kernelspec": {
   "display_name": "entornoJupyter",
   "language": "python",
   "name": "python3"
  },
  "language_info": {
   "codemirror_mode": {
    "name": "ipython",
    "version": 3
   },
   "file_extension": ".py",
   "mimetype": "text/x-python",
   "name": "python",
   "nbconvert_exporter": "python",
   "pygments_lexer": "ipython3",
   "version": "3.11.2"
  }
 },
 "nbformat": 4,
 "nbformat_minor": 5
}
