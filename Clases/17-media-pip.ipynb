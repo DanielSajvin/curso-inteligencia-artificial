{
 "cells": [
  {
   "cell_type": "code",
   "execution_count": 8,
   "id": "d0022d53",
   "metadata": {},
   "outputs": [],
   "source": [
    "# carga de modulos necesarios\n",
    "import cv2\n",
    "import numpy as np\n",
    "\n",
    "# Desde la web\n",
    "import requests\n",
    "\n",
    "# foto local\n",
    "import mediapipe as mp"
   ]
  },
  {
   "cell_type": "code",
   "execution_count": 9,
   "id": "89bf5e85",
   "metadata": {},
   "outputs": [],
   "source": [
    "# paso 1, cargar imagen\n",
    "#ruta = \"../dataSet/jpg/rostro-mujer.jpg\"\n",
    "\n",
    "# desde la web \n",
    "response = requests.get(\"https://st5.depositphotos.com/67720150/65347/i/450/depositphotos_653475304-stock-photo-group-multiracial-young-student-people.jpg\")\n",
    "image_array = np.asarray(bytearray(response.content), dtype=np.uint8)\n",
    "image = cv2.imdecode(image_array, cv2.IMREAD_COLOR)\n",
    "\n",
    "#image = cv2.imread(ruta)"
   ]
  },
  {
   "cell_type": "code",
   "execution_count": 10,
   "id": "f8a66f2b",
   "metadata": {},
   "outputs": [],
   "source": [
    "# paso 2, incializar la deteccion de rostros de Mediapipe\n",
    "mp_face_detection = mp.solutions.face_detection\n",
    "mp_drawing = mp.solutions.drawing_utils\n"
   ]
  },
  {
   "cell_type": "code",
   "execution_count": 11,
   "id": "68d275d5",
   "metadata": {},
   "outputs": [],
   "source": [
    "# paso 3, usar el modelo con la imagen \n",
    "with mp_face_detection.FaceDetection(model_selection=1, min_detection_confidence=0.5) as face_detection:\n",
    "    # convertir la imagen a RGB (mediapipe trabaja con RGB)\n",
    "    image_rgb = cv2.cvtColor(image, cv2.COLOR_BGR2RGB)\n",
    "    # procesar la imagen\n",
    "    results = face_detection.process(image_rgb)\n",
    "    # dibujar los resultados \n",
    "    if results.detections:\n",
    "        for detection in results.detections:\n",
    "            mp_drawing.draw_detection(image, detection)"
   ]
  },
  {
   "cell_type": "code",
   "execution_count": 12,
   "id": "e8a6a55d",
   "metadata": {},
   "outputs": [],
   "source": [
    "# paso 4, mostrar la imagen con detecciones \n",
    "# Redimensionar la imagen para ajustarla a la pantalla si es necesario\n",
    "height, width = image.shape[:2]\n",
    "max_height = 800\n",
    "max_width = 800\n",
    "\n",
    "if height > max_height or width > max_width:\n",
    "    scaling_factor = min(max_width / width, max_height / height)\n",
    "    image = cv2.resize(image, (int(width * scaling_factor), int(height * scaling_factor)))\n",
    "\n",
    "cv2.imshow(\"Detección de Rostros\", image)\n",
    "cv2.waitKey(0)\n",
    "cv2.destroyAllWindows()"
   ]
  },
  {
   "cell_type": "code",
   "execution_count": null,
   "id": "b47b282e",
   "metadata": {},
   "outputs": [],
   "source": []
  }
 ],
 "metadata": {
  "kernelspec": {
   "display_name": "entornoJupyter",
   "language": "python",
   "name": "python3"
  },
  "language_info": {
   "codemirror_mode": {
    "name": "ipython",
    "version": 3
   },
   "file_extension": ".py",
   "mimetype": "text/x-python",
   "name": "python",
   "nbconvert_exporter": "python",
   "pygments_lexer": "ipython3",
   "version": "3.11.2"
  }
 },
 "nbformat": 4,
 "nbformat_minor": 5
}
