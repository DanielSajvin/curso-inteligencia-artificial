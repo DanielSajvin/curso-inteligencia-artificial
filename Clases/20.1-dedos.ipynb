{
 "cells": [
  {
   "cell_type": "code",
   "execution_count": 1,
   "id": "f25cc6c4",
   "metadata": {},
   "outputs": [],
   "source": [
    "import cv2\n",
    "import mediapipe as mp\n",
    "import math\n"
   ]
  },
  {
   "cell_type": "code",
   "execution_count": 2,
   "id": "bf9916aa",
   "metadata": {},
   "outputs": [],
   "source": [
    "mp_drawing = mp.solutions.drawing_utils\n",
    "mp_hands = mp.solutions.hands"
   ]
  },
  {
   "cell_type": "code",
   "execution_count": 3,
   "id": "0a9e14ce",
   "metadata": {},
   "outputs": [],
   "source": [
    "def distancia(p1, p2):\n",
    "    return math.sqrt((p2.x - p1.x) ** 2 + (p2.y - p1.y) ** 2)"
   ]
  },
  {
   "cell_type": "code",
   "execution_count": 4,
   "id": "359bb648",
   "metadata": {},
   "outputs": [],
   "source": [
    "# funcion para determinar si un dedo esta levantado o no\n",
    "\n",
    "# tip = punta\n",
    "# pip = primera articulacion\n",
    "# dip = segunda articulacion\n",
    "# mcp = metacarpiana (base del dedo)\n",
    "def dedo_levantado(landmarks, dedo_tip, dedo_dip, dedo_pip, dedo_mcp, umbral=0.1):\n",
    "    # comparar la posición \"y\" del punto a la punta con los puntos anteriores\n",
    "    return (\n",
    "        landmarks[dedo_tip].y < landmarks[dedo_dip].y\n",
    "        and landmarks[dedo_dip].y < landmarks[dedo_pip].y\n",
    "        and landmarks[dedo_pip].y < landmarks[dedo_mcp].y\n",
    "    )"
   ]
  },
  {
   "cell_type": "code",
   "execution_count": 5,
   "id": "5425247f",
   "metadata": {},
   "outputs": [
    {
     "name": "stdout",
     "output_type": "stream",
     "text": [
      "Hadedness:  [classification {\n",
      "  index: 0\n",
      "  score: 0.986841381\n",
      "  label: \"Left\"\n",
      "}\n",
      ", classification {\n",
      "  index: 1\n",
      "  score: 0.953673\n",
      "  label: \"Right\"\n",
      "}\n",
      "]\n"
     ]
    }
   ],
   "source": [
    "ruta = \"../dataSet/jpg/manos.jpg\"\n",
    "\n",
    "with mp_hands.Hands(\n",
    "    static_image_mode=False, max_num_hands=2, min_detection_confidence=0.5\n",
    ") as hands:\n",
    "    image = cv2.imread(ruta)\n",
    "    height, width, _ = image.shape\n",
    "    image = cv2.flip(image, 1)  # Voltear la imagen horizontalmente\n",
    "    image_rgb = cv2.cvtColor(image, cv2.COLOR_BGR2RGB)\n",
    "    results = hands.process(image_rgb)\n",
    "\n",
    "    print(\"Hadedness: \", results.multi_handedness)"
   ]
  },
  {
   "cell_type": "code",
   "execution_count": 6,
   "id": "6e576e19",
   "metadata": {},
   "outputs": [
    {
     "name": "stdout",
     "output_type": "stream",
     "text": [
      "Dedos levantados: ['Pulgar', 'Indice', 'Medio', 'Anular', 'Menique']\n",
      "Dedos levantados: ['Pulgar', 'Indice', 'Medio', 'Anular', 'Menique']\n"
     ]
    }
   ],
   "source": [
    "if results.multi_hand_landmarks:\n",
    "    for hands_landmarks in results.multi_hand_landmarks:\n",
    "        # Dibujar las marcas y conexiones de la mano\n",
    "        mp_drawing.draw_landmarks(image, hands_landmarks, mp_hands.HAND_CONNECTIONS)\n",
    "\n",
    "        # Obtener las marcas como una lista\n",
    "        landmarks = hands_landmarks.landmark\n",
    "\n",
    "        # Definir los indices de los puntos de los dedos (segun Mediapipe)\n",
    "        PULGAR_TIP = 4\n",
    "        INDICE_TIP = 8\n",
    "        MEDIO_TIP = 12\n",
    "        ANULAR_TIP = 16\n",
    "        MENIQUE_TIP = 20\n",
    "\n",
    "        # Puntos para cada dedo (tip, dip, pip, mcp)\n",
    "        dedos = {\n",
    "            \"Pulgar\": (PULGAR_TIP, 2, 1, 0),\n",
    "            \"Indice\": (INDICE_TIP, 6, 5, 0),\n",
    "            \"Medio\": (MEDIO_TIP, 10, 9, 0),\n",
    "            \"Anular\": (ANULAR_TIP, 14, 13, 0),\n",
    "            \"Menique\": (MENIQUE_TIP, 18, 17, 0),\n",
    "        }\n",
    "\n",
    "        # Verificar que dedos están levantados\n",
    "        dedos_levantados = []\n",
    "        for nombre, (tip, dip, pip, mcp) in dedos.items():\n",
    "            if dedo_levantado(landmarks, tip, dip, pip, mcp):\n",
    "                dedos_levantados.append(nombre)\n",
    "        print(\"Dedos levantados:\", dedos_levantados)"
   ]
  },
  {
   "cell_type": "code",
   "execution_count": 7,
   "id": "90a553f5",
   "metadata": {},
   "outputs": [
    {
     "data": {
      "text/plain": [
       "array([[[21, 22, 18],\n",
       "        [21, 22, 18],\n",
       "        [22, 23, 19],\n",
       "        ...,\n",
       "        [16, 17, 13],\n",
       "        [16, 17, 13],\n",
       "        [16, 17, 13]],\n",
       "\n",
       "       [[21, 22, 18],\n",
       "        [21, 22, 18],\n",
       "        [22, 23, 19],\n",
       "        ...,\n",
       "        [16, 17, 13],\n",
       "        [16, 17, 13],\n",
       "        [16, 17, 13]],\n",
       "\n",
       "       [[22, 23, 19],\n",
       "        [22, 23, 19],\n",
       "        [21, 22, 18],\n",
       "        ...,\n",
       "        [16, 17, 13],\n",
       "        [16, 17, 13],\n",
       "        [16, 17, 13]],\n",
       "\n",
       "       ...,\n",
       "\n",
       "       [[12, 13,  9],\n",
       "        [12, 13,  9],\n",
       "        [12, 13,  9],\n",
       "        ...,\n",
       "        [11, 12,  8],\n",
       "        [11, 12,  8],\n",
       "        [11, 12,  8]],\n",
       "\n",
       "       [[12, 13,  9],\n",
       "        [12, 13,  9],\n",
       "        [12, 13,  9],\n",
       "        ...,\n",
       "        [11, 12,  8],\n",
       "        [11, 12,  8],\n",
       "        [11, 12,  8]],\n",
       "\n",
       "       [[12, 13,  9],\n",
       "        [12, 13,  9],\n",
       "        [12, 13,  9],\n",
       "        ...,\n",
       "        [11, 12,  8],\n",
       "        [11, 12,  8],\n",
       "        [11, 12,  8]]], dtype=uint8)"
      ]
     },
     "execution_count": 7,
     "metadata": {},
     "output_type": "execute_result"
    }
   ],
   "source": [
    "# Dibujar las marcas y conexiones de ambas manos con color azul\n",
    "for hands_landmarks in results.multi_hand_landmarks:\n",
    "    mp_drawing.draw_landmarks(\n",
    "        image, hands_landmarks, mp_hands.HAND_CONNECTIONS,\n",
    "        mp_drawing.DrawingSpec(color=(255, 255, 255), thickness=2, circle_radius=2),  # Puntos en blanco\n",
    "        mp_drawing.DrawingSpec(color=(255, 0, 0), thickness=2)  # Conexiones en azul\n",
    "    )\n",
    "mp_drawing.draw_landmarks(\n",
    "    image, hands_landmarks, mp_hands.HAND_CONNECTIONS,\n",
    "    mp_drawing.DrawingSpec(color=(255, 255, 255), thickness=2, circle_radius=2),  # Puntos en blanco\n",
    "    mp_drawing.DrawingSpec(color=(255, 0, 0), thickness=2)  # Conexiones en azul\n",
    ")\n",
    "cv2.putText(\n",
    "    image,\n",
    "    f\"Dedos: {', '.join(dedos_levantados)}\",\n",
    "    (10, 30),\n",
    "    cv2.FONT_HERSHEY_SIMPLEX,\n",
    "    1,\n",
    "    (0, 255, 0),\n",
    "    2,\n",
    ")"
   ]
  },
  {
   "cell_type": "code",
   "execution_count": 8,
   "id": "6a1ed2cf",
   "metadata": {},
   "outputs": [],
   "source": [
    "# Mostrar la imagen resultante \n",
    "# Redimensionar la imagen para que sea más pequeña\n",
    "image_resized = cv2.resize(image, (width // 2, height // 2))\n",
    "cv2.imshow(\"Imagen\", image_resized)\n",
    "cv2.waitKey(0) # Esperar a que se presione una tecla\n",
    "cv2.destroyAllWindows() # Cerrar todas las ventanas"
   ]
  },
  {
   "cell_type": "code",
   "execution_count": null,
   "id": "37d5852c",
   "metadata": {},
   "outputs": [],
   "source": []
  }
 ],
 "metadata": {
  "kernelspec": {
   "display_name": "entornoJupyter",
   "language": "python",
   "name": "python3"
  },
  "language_info": {
   "codemirror_mode": {
    "name": "ipython",
    "version": 3
   },
   "file_extension": ".py",
   "mimetype": "text/x-python",
   "name": "python",
   "nbconvert_exporter": "python",
   "pygments_lexer": "ipython3",
   "version": "3.11.2"
  }
 },
 "nbformat": 4,
 "nbformat_minor": 5
}
