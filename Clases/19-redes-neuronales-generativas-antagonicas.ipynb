{
 "cells": [
  {
   "cell_type": "markdown",
   "id": "b35f547a",
   "metadata": {},
   "source": [
    "# Redes Generativas Antagonicas - GAN\n",
    "\n",
    "### Requisitos: pip install tensorflow numpy matplotlib"
   ]
  },
  {
   "cell_type": "code",
   "execution_count": 1,
   "id": "ca85f9b7",
   "metadata": {},
   "outputs": [],
   "source": [
    "import tensorflow as tf\n",
    "from tensorflow.keras.layers import Dense, LeakyReLU, BatchNormalization, Reshape, Flatten\n",
    "from tensorflow.keras.models import Sequential\n",
    "from tensorflow.keras.optimizers import Adam\n",
    "import numpy as np\n",
    "import matplotlib.pyplot as plt"
   ]
  },
  {
   "cell_type": "code",
   "execution_count": 2,
   "id": "dec06818",
   "metadata": {},
   "outputs": [],
   "source": [
    "# cargar el dataset MNIST\n",
    "(x_train, _), (_, _) = tf.keras.datasets.mnist.load_data()\n",
    "x_train = x_train / 255.0  # normalizar imágenes entre 0 y 1\n",
    "x_train = x_train.reshape(-1, 28, 28, 1).astype('float32')  # cambiar la forma a (num_samples, 28, 28, 1)"
   ]
  },
  {
   "cell_type": "code",
   "execution_count": 3,
   "id": "2580b9e6",
   "metadata": {},
   "outputs": [],
   "source": [
    "# tamaño del espacio latente (ruido de entrada para el generador)\n",
    "latent_dim = 100"
   ]
  },
  {
   "cell_type": "code",
   "execution_count": 4,
   "id": "8a4c857a",
   "metadata": {},
   "outputs": [],
   "source": [
    "# crear el generador\n",
    "def build_generator():\n",
    "    model = Sequential(\n",
    "        [\n",
    "            Dense(256, input_dim=latent_dim),\n",
    "            LeakyReLU(alpha=0.2),\n",
    "            BatchNormalization(),\n",
    "            Dense(512),\n",
    "            LeakyReLU(alpha=0.2),\n",
    "            BatchNormalization(),\n",
    "            Dense(1024),\n",
    "            LeakyReLU(alpha=0.2),\n",
    "            BatchNormalization(),\n",
    "            Dense(28 * 28 * 1, activation=\"tanh\"),\n",
    "            Reshape((28, 28, 1)),\n",
    "        ]\n",
    "    )\n",
    "    return model"
   ]
  },
  {
   "cell_type": "code",
   "execution_count": 5,
   "id": "71583635",
   "metadata": {},
   "outputs": [],
   "source": [
    "# crear el discriminador\n",
    "def build_discriminador():\n",
    "    model = Sequential(\n",
    "        [\n",
    "            Flatten(input_shape=(28, 28, 1)),\n",
    "            Dense(512),\n",
    "            LeakyReLU(alpha=0.2),\n",
    "            Dense(1, activation=\"sigmoid\"),  # clasificacion entre real 1 y falso 0\n",
    "        ]\n",
    "    )\n",
    "    return model"
   ]
  },
  {
   "cell_type": "code",
   "execution_count": 6,
   "id": "74bb2533",
   "metadata": {},
   "outputs": [
    {
     "name": "stderr",
     "output_type": "stream",
     "text": [
      "c:\\Users\\Sjvn\\Desktop\\Personal\\URL\\Inteligencia Artificial\\Jupyter-clases\\entornoJupyter\\Lib\\site-packages\\keras\\src\\layers\\reshaping\\flatten.py:37: UserWarning: Do not pass an `input_shape`/`input_dim` argument to a layer. When using Sequential models, prefer using an `Input(shape)` object as the first layer in the model instead.\n",
      "  super().__init__(**kwargs)\n",
      "c:\\Users\\Sjvn\\Desktop\\Personal\\URL\\Inteligencia Artificial\\Jupyter-clases\\entornoJupyter\\Lib\\site-packages\\keras\\src\\layers\\activations\\leaky_relu.py:41: UserWarning: Argument `alpha` is deprecated. Use `negative_slope` instead.\n",
      "  warnings.warn(\n"
     ]
    }
   ],
   "source": [
    "# compilar el model\n",
    "discriminador = build_discriminador()\n",
    "discriminador.compile(\n",
    "    optimizer=Adam(learning_rate=0.0002, beta_1=0.5),\n",
    "    loss=\"binary_crossentropy\",\n",
    "    metrics=[\"accuracy\"],\n",
    ")"
   ]
  },
  {
   "cell_type": "code",
   "execution_count": 7,
   "id": "63ff779a",
   "metadata": {},
   "outputs": [
    {
     "name": "stderr",
     "output_type": "stream",
     "text": [
      "c:\\Users\\Sjvn\\Desktop\\Personal\\URL\\Inteligencia Artificial\\Jupyter-clases\\entornoJupyter\\Lib\\site-packages\\keras\\src\\layers\\core\\dense.py:87: UserWarning: Do not pass an `input_shape`/`input_dim` argument to a layer. When using Sequential models, prefer using an `Input(shape)` object as the first layer in the model instead.\n",
      "  super().__init__(activity_regularizer=activity_regularizer, **kwargs)\n"
     ]
    }
   ],
   "source": [
    "# compilar el generador (dentro de GAN)\n",
    "generador = build_generator()"
   ]
  },
  {
   "cell_type": "code",
   "execution_count": 8,
   "id": "bb64f32a",
   "metadata": {},
   "outputs": [],
   "source": [
    "# congelar el discriminador durante el entrenamiento del generador\n",
    "discriminador.trainable = False\n",
    "\n",
    "# crear la GAN combinando el generador y el discriminador\n",
    "gan_input = tf.keras.Input(shape=(latent_dim,))\n",
    "gan_output = discriminador(generador(gan_input))\n",
    "gan = tf.keras.Model(gan_input, gan_output)"
   ]
  },
  {
   "cell_type": "code",
   "execution_count": 9,
   "id": "68c12a7e",
   "metadata": {},
   "outputs": [],
   "source": [
    "# compilar la GAN\n",
    "gan.compile(\n",
    "    optimizer=Adam(learning_rate=0.0002, beta_1=0.5),\n",
    "    loss=\"binary_crossentropy\",\n",
    ")"
   ]
  },
  {
   "cell_type": "code",
   "execution_count": 10,
   "id": "380ab5e3",
   "metadata": {},
   "outputs": [],
   "source": [
    "# Función para entrenar la GAN\n",
    "def train_gan(epochs=1000, batch_size=128):\n",
    "    batch_count = x_train.shape[0]\n",
    "\n",
    "    for epoch in range(epochs):\n",
    "        for _ in range(batch_count):\n",
    "            # Entrenar el discriminador\n",
    "            noise = np.random.normal(0, 1, size=(batch_size, latent_dim))\n",
    "            generated_images = generador.predict(noise)\n",
    "            real_images = x_train[\n",
    "                np.random.randint(0, x_train.shape[0], size=batch_size)\n",
    "            ]\n",
    "\n",
    "            X = np.concatenate([real_images, generated_images])\n",
    "            y = np.concatenate([np.ones((batch_size, 1)), np.zeros((batch_size, 1))])\n",
    "\n",
    "\n",
    "            d_loss = discriminador.train_on_batch(X, y)\n",
    "\n",
    "            # Entrenar el generador por medio de la GAN\n",
    "            noise = np.random.normal(0, 1, size=(batch_size, latent_dim))\n",
    "            g_loss = gan.train_on_batch(noise, np.ones((batch_size, 1)))\n",
    "\n",
    "        if epoch % 100 == 0:\n",
    "            print(\n",
    "                f\"Epocas: {epoch}, Pérdida Discriminador: {d_loss[0]}, Generador Loss: {g_loss[0]}\"\n",
    "            )\n",
    "            generated_and_save_images(generador, epoch)\n",
    "\n",
    "\n",
    "# Función para generar y guardar imágenes\n",
    "def generated_and_save_images(model, epoch, ejemplos=16, dim=(4, 4), figsize=(10, 10)):\n",
    "    noise = np.random.normal(0, 1, size=(ejemplos, latent_dim))\n",
    "    generated_images = model.predict(noise)\n",
    "    generated_images = generated_images.reshape(ejemplos, 28, 28)\n",
    "\n",
    "    plt.figure(figsize=figsize)\n",
    "    for i in range(generated_images.shape[0]):\n",
    "        plt.subplot(dim[0], dim[1], i + 1)\n",
    "        plt.imshow(generated_images[i], interpolation=\"nearest\", cmap=\"gray_r\")\n",
    "        plt.axis(\"off\")\n",
    "    plt.tight_layout()\n",
    "    plt.savefig(f\"gan_generated_epoch_{epoch}.png\")\n",
    "    plt.show()"
   ]
  },
  {
   "cell_type": "code",
   "execution_count": null,
   "id": "84269e93",
   "metadata": {},
   "outputs": [
    {
     "name": "stdout",
     "output_type": "stream",
     "text": [
      "\u001b[1m4/4\u001b[0m \u001b[32m━━━━━━━━━━━━━━━━━━━━\u001b[0m\u001b[37m\u001b[0m \u001b[1m0s\u001b[0m 10ms/step \n"
     ]
    },
    {
     "name": "stderr",
     "output_type": "stream",
     "text": [
      "c:\\Users\\Sjvn\\Desktop\\Personal\\URL\\Inteligencia Artificial\\Jupyter-clases\\entornoJupyter\\Lib\\site-packages\\keras\\src\\backend\\tensorflow\\trainer.py:82: UserWarning: The model does not have any trainable weights.\n",
      "  warnings.warn(\"The model does not have any trainable weights.\")\n"
     ]
    }
   ],
   "source": [
    "# entrenar la GAN\n",
    "train_gan(epochs=1000, batch_size=128)"
   ]
  },
  {
   "cell_type": "code",
   "execution_count": null,
   "id": "d5dbfac6",
   "metadata": {},
   "outputs": [],
   "source": []
  }
 ],
 "metadata": {
  "kernelspec": {
   "display_name": "entornoJupyter",
   "language": "python",
   "name": "python3"
  },
  "language_info": {
   "codemirror_mode": {
    "name": "ipython",
    "version": 3
   },
   "file_extension": ".py",
   "mimetype": "text/x-python",
   "name": "python",
   "nbconvert_exporter": "python",
   "pygments_lexer": "ipython3",
   "version": "3.11.2"
  }
 },
 "nbformat": 4,
 "nbformat_minor": 5
}
