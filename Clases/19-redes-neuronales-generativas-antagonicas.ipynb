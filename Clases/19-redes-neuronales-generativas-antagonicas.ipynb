{
 "cells": [
  {
   "cell_type": "markdown",
   "id": "b35f547a",
   "metadata": {},
   "source": [
    "# Redes Generativas Antagonicas - GAN\n",
    "\n",
    "### Requisitos: pip install tensorflow numpy matplotlib"
   ]
  },
  {
   "cell_type": "code",
   "execution_count": 1,
   "id": "ca85f9b7",
   "metadata": {},
   "outputs": [],
   "source": [
    "import tensorflow as tf\n",
    "from tensorflow.keras.layers import Dense, LeakyReLU, BatchNormalization, Reshape, Flatten\n",
    "from tensorflow.keras.models import Sequential\n",
    "from tensorflow.keras.optimizers import Adam\n",
    "import numpy as np\n",
    "import matplotlib.pyplot as plt"
   ]
  },
  {
   "cell_type": "code",
   "execution_count": 2,
   "id": "dec06818",
   "metadata": {},
   "outputs": [],
   "source": [
    "# cargar el dataset MNIST\n",
    "(x_train, _), (_, _) = tf.keras.datasets.mnist.load_data()\n",
    "x_train = x_train / 255.0  # normalizar imágenes entre 0 y 1\n",
    "x_train = x_train.reshape(-1, 28, 28, 1).astype('float32')  # cambiar la forma a (num_samples, 28, 28, 1)"
   ]
  },
  {
   "cell_type": "code",
   "execution_count": 3,
   "id": "2580b9e6",
   "metadata": {},
   "outputs": [],
   "source": [
    "# tamaño del espacio latente (ruido de entrada para el generador)\n",
    "latent_dim = 100"
   ]
  },
  {
   "cell_type": "code",
   "execution_count": 4,
   "id": "8a4c857a",
   "metadata": {},
   "outputs": [],
   "source": [
    "# crear el generador\n",
    "def build_generator():\n",
    "    model = Sequential(\n",
    "        [\n",
    "            Dense(256, input_dim=latent_dim),\n",
    "            LeakyReLU(alpha=0.2),\n",
    "            BatchNormalization(),\n",
    "            Dense(512),\n",
    "            LeakyReLU(alpha=0.2),\n",
    "            BatchNormalization(),\n",
    "            Dense(1024),\n",
    "            LeakyReLU(alpha=0.2),\n",
    "            BatchNormalization(),\n",
    "            Dense(28 * 28 * 1, activation=\"tanh\"),\n",
    "            Reshape((28, 28, 1)),\n",
    "        ]\n",
    "    )\n",
    "    return model"
   ]
  },
  {
   "cell_type": "code",
   "execution_count": 5,
   "id": "71583635",
   "metadata": {},
   "outputs": [],
   "source": [
    "# crear el discriminador\n",
    "def build_discriminador():\n",
    "    model = Sequential(\n",
    "        [\n",
    "            Flatten(input_shape=(28, 28, 1)),\n",
    "            Dense(512),\n",
    "            LeakyReLU(alpha=0.2),\n",
    "            Dense(1, activation=\"sigmoid\"),  # clasificacion entre real 1 y falso 0\n",
    "        ]\n",
    "    )\n",
    "    return model"
   ]
  },
  {
   "cell_type": "code",
   "execution_count": 6,
   "id": "74bb2533",
   "metadata": {},
   "outputs": [
    {
     "name": "stderr",
     "output_type": "stream",
     "text": [
      "c:\\Users\\Sjvn\\Desktop\\URL\\Inteligencia Artificial\\Jupyter-clases\\entornoJupyter\\Lib\\site-packages\\keras\\src\\layers\\reshaping\\flatten.py:37: UserWarning: Do not pass an `input_shape`/`input_dim` argument to a layer. When using Sequential models, prefer using an `Input(shape)` object as the first layer in the model instead.\n",
      "  super().__init__(**kwargs)\n",
      "c:\\Users\\Sjvn\\Desktop\\URL\\Inteligencia Artificial\\Jupyter-clases\\entornoJupyter\\Lib\\site-packages\\keras\\src\\layers\\activations\\leaky_relu.py:41: UserWarning: Argument `alpha` is deprecated. Use `negative_slope` instead.\n",
      "  warnings.warn(\n"
     ]
    }
   ],
   "source": [
    "# compilar el model\n",
    "discriminador = build_discriminador()\n",
    "discriminador.compile(\n",
    "    optimizer=Adam(learning_rate=0.0002, beta_1=0.5),\n",
    "    loss=\"binary_crossentropy\",\n",
    "    metrics=[\"accuracy\"],\n",
    ")"
   ]
  },
  {
   "cell_type": "code",
   "execution_count": 7,
   "id": "63ff779a",
   "metadata": {},
   "outputs": [
    {
     "name": "stderr",
     "output_type": "stream",
     "text": [
      "c:\\Users\\Sjvn\\Desktop\\URL\\Inteligencia Artificial\\Jupyter-clases\\entornoJupyter\\Lib\\site-packages\\keras\\src\\layers\\core\\dense.py:87: UserWarning: Do not pass an `input_shape`/`input_dim` argument to a layer. When using Sequential models, prefer using an `Input(shape)` object as the first layer in the model instead.\n",
      "  super().__init__(activity_regularizer=activity_regularizer, **kwargs)\n"
     ]
    }
   ],
   "source": [
    "# compilar el generador (dentro de GAN)\n",
    "generador = build_generator()"
   ]
  },
  {
   "cell_type": "code",
   "execution_count": 8,
   "id": "bb64f32a",
   "metadata": {},
   "outputs": [],
   "source": [
    "# congelar el discriminador durante el entrenamiento del generador\n",
    "discriminador.trainable = False\n",
    "\n",
    "# crear la GAN combinando el generador y el discriminador\n",
    "gan_input = tf.keras.Input(shape=(latent_dim,))\n",
    "gan_output = discriminador(generador(gan_input))\n",
    "gan = tf.keras.Model(gan_input, gan_output)"
   ]
  },
  {
   "cell_type": "code",
   "execution_count": 10,
   "id": "68c12a7e",
   "metadata": {},
   "outputs": [],
   "source": [
    "# compilar la GAN\n",
    "gan.compile(\n",
    "    optimizer=Adam(learning_rate=0.0002, beta_1=0.5),\n",
    "    loss=\"binary_crossentropy\",\n",
    ")"
   ]
  },
  {
   "cell_type": "code",
   "execution_count": null,
   "id": "380ab5e3",
   "metadata": {},
   "outputs": [],
   "source": []
  }
 ],
 "metadata": {
  "kernelspec": {
   "display_name": "entornoJupyter",
   "language": "python",
   "name": "python3"
  },
  "language_info": {
   "codemirror_mode": {
    "name": "ipython",
    "version": 3
   },
   "file_extension": ".py",
   "mimetype": "text/x-python",
   "name": "python",
   "nbconvert_exporter": "python",
   "pygments_lexer": "ipython3",
   "version": "3.11.2"
  }
 },
 "nbformat": 4,
 "nbformat_minor": 5
}
